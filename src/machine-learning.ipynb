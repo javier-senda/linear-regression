{
 "cells": [
  {
   "cell_type": "markdown",
   "id": "2ab36d2a",
   "metadata": {},
   "source": [
    "# Regresión linear"
   ]
  },
  {
   "cell_type": "code",
   "execution_count": 61,
   "id": "7d3262f9",
   "metadata": {},
   "outputs": [],
   "source": [
    "import matplotlib.pyplot as plt\n",
    "import pandas as pd\n",
    "import seaborn as sns\n",
    "import json\n",
    "import pickle\n",
    "from sklearn.linear_model import LinearRegression\n",
    "from sklearn.metrics import mean_squared_error, r2_score"
   ]
  },
  {
   "cell_type": "code",
   "execution_count": 62,
   "id": "ca760252",
   "metadata": {},
   "outputs": [],
   "source": [
    "BASE_PATH = \"../data/processed\"\n",
    "TRAIN_PATHS = [\n",
    "    \"X_train_con_outliers.xlsx\",\n",
    "    \"X_train_sin_outliers.xlsx\",\n",
    "    \"X_train_con_outliers_norm.xlsx\",\n",
    "    \"X_train_sin_outliers_norm.xlsx\",\n",
    "    \"X_train_con_outliers_scal.xlsx\",\n",
    "    \"X_train_sin_outliers_scal.xlsx\"\n",
    "]\n",
    "TRAIN_DATASETS = []\n",
    "for path in TRAIN_PATHS:\n",
    "    TRAIN_DATASETS.append(\n",
    "        pd.read_excel(f\"{BASE_PATH}/{path}\")\n",
    "    )\n",
    "\n",
    "TEST_PATHS = [\n",
    "    \"X_test_con_outliers.xlsx\",\n",
    "    \"X_test_sin_outliers.xlsx\",\n",
    "    \"X_test_con_outliers_norm.xlsx\",\n",
    "    \"X_test_sin_outliers_norm.xlsx\",\n",
    "    \"X_test_con_outliers_scal.xlsx\",\n",
    "    \"X_test_sin_outliers_scal.xlsx\"\n",
    "]\n",
    "TEST_DATASETS = []\n",
    "for path in TEST_PATHS:\n",
    "    TEST_DATASETS.append(\n",
    "        pd.read_excel(f\"{BASE_PATH}/{path}\")\n",
    "    )\n",
    "\n",
    "y_train = pd.read_excel(f\"{BASE_PATH}/y_train.xlsx\")\n",
    "y_test = pd.read_excel(f\"{BASE_PATH}/y_test.xlsx\")"
   ]
  },
  {
   "cell_type": "code",
   "execution_count": 63,
   "id": "88e94995",
   "metadata": {},
   "outputs": [
    {
     "data": {
      "text/plain": [
       "[{'train_mse': 37005531.72811555,\n",
       "  'train_r2': 0.7297182858804965,\n",
       "  'test_mse': 35493102.61165053,\n",
       "  'test_r2': 0.8068466322629111},\n",
       " {'train_mse': 36992599.00185515,\n",
       "  'train_r2': 0.7298127441752071,\n",
       "  'test_mse': 35467636.63842711,\n",
       "  'test_r2': 0.8069852180198291},\n",
       " {'train_mse': 37005531.72811554,\n",
       "  'train_r2': 0.7297182858804965,\n",
       "  'test_mse': 35493102.61165054,\n",
       "  'test_r2': 0.8068466322629111},\n",
       " {'train_mse': 36992599.00185515,\n",
       "  'train_r2': 0.7298127441752071,\n",
       "  'test_mse': 35467636.63842714,\n",
       "  'test_r2': 0.806985218019829},\n",
       " {'train_mse': 37005531.72811555,\n",
       "  'train_r2': 0.7297182858804965,\n",
       "  'test_mse': 35493102.61165053,\n",
       "  'test_r2': 0.8068466322629111},\n",
       " {'train_mse': 36992599.00185515,\n",
       "  'train_r2': 0.7298127441752071,\n",
       "  'test_mse': 35467636.63842708,\n",
       "  'test_r2': 0.8069852180198294}]"
      ]
     },
     "execution_count": 63,
     "metadata": {},
     "output_type": "execute_result"
    }
   ],
   "source": [
    "results = []\n",
    "models=[]\n",
    "\n",
    "for index, dataset in enumerate(TRAIN_DATASETS):\n",
    "    model = LinearRegression()\n",
    "    model.fit(dataset, y_train)\n",
    "    models.append(model)\n",
    "    \n",
    "    y_pred_train = model.predict(dataset)\n",
    "    y_pred_test = model.predict(TEST_DATASETS[index])\n",
    "\n",
    "    results.append(\n",
    "        {\n",
    "            \"train_mse\": mean_squared_error(y_train, y_pred_train),\n",
    "            \"train_r2\": r2_score(y_train, y_pred_train),\n",
    "            \"test_mse\": mean_squared_error(y_test, y_pred_test),\n",
    "            \"test_r2\": r2_score(y_test, y_pred_test)\n",
    "        }\n",
    "    )\n",
    "\n",
    "\n",
    "results"
   ]
  },
  {
   "cell_type": "code",
   "execution_count": 64,
   "id": "9068266c",
   "metadata": {},
   "outputs": [],
   "source": [
    "best_model = 2\n",
    "final_model = models[1]\n",
    "\n",
    "with open(\"../models/linear_best_model.pkl\", \"wb\") as f:\n",
    "    pickle.dump(final_model, f)\n",
    "\n",
    "with open(\"../models/final_results.json\", \"w\") as f:\n",
    "    json.dump(results, f, indent=4)"
   ]
  }
 ],
 "metadata": {
  "kernelspec": {
   "display_name": "Python 3",
   "language": "python",
   "name": "python3"
  },
  "language_info": {
   "codemirror_mode": {
    "name": "ipython",
    "version": 3
   },
   "file_extension": ".py",
   "mimetype": "text/x-python",
   "name": "python",
   "nbconvert_exporter": "python",
   "pygments_lexer": "ipython3",
   "version": "3.11.4"
  }
 },
 "nbformat": 4,
 "nbformat_minor": 5
}
